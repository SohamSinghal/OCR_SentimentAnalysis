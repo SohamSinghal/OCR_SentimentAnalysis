{
  "nbformat": 4,
  "nbformat_minor": 0,
  "metadata": {
    "colab": {
      "provenance": []
    },
    "kernelspec": {
      "name": "python3",
      "display_name": "Python 3"
    },
    "language_info": {
      "name": "python"
    },
    "accelerator": "GPU",
    "gpuClass": "standard"
  },
  "cells": [
    {
      "cell_type": "code",
      "source": [
        "import tensorflow as tf\n",
        "import pandas as pd\n",
        "import numpy as np\n",
        "import matplotlib.pyplot as plt\n",
        "import pytesseract"
      ],
      "metadata": {
        "id": "ND9YVRyTZRQC"
      },
      "execution_count": null,
      "outputs": []
    },
    {
      "cell_type": "code",
      "source": [
        "from google.colab import drive\n",
        "drive.mount('/content/drive')\n",
        "train_pd = pd.read_csv('/content/drive/MyDrive/Colab Notebooks/emnist/emnist-letters-train.csv')\n",
        "test_pd = pd.read_csv('/content/drive/MyDrive/Colab Notebooks/emnist/emnist-letters-test.csv')"
      ],
      "metadata": {
        "colab": {
          "base_uri": "https://localhost:8080/"
        },
        "id": "v-yOGNFYoDtn",
        "outputId": "dc51608e-98da-4902-a46a-daf911965964"
      },
      "execution_count": null,
      "outputs": [
        {
          "output_type": "stream",
          "name": "stdout",
          "text": [
            "Drive already mounted at /content/drive; to attempt to forcibly remount, call drive.mount(\"/content/drive\", force_remount=True).\n"
          ]
        }
      ]
    },
    {
      "cell_type": "code",
      "source": [
        "print('training dataset dimensions: ', train_pd.shape)\n",
        "print('test dataset dimensions: ', test_pd.shape, '\\n')"
      ],
      "metadata": {
        "colab": {
          "base_uri": "https://localhost:8080/"
        },
        "id": "Xj1X9FApoGzi",
        "outputId": "7aa0bb30-bc57-4960-f464-030d1849b62b"
      },
      "execution_count": null,
      "outputs": [
        {
          "output_type": "stream",
          "name": "stdout",
          "text": [
            "training dataset dimensions:  (88799, 785)\n",
            "test dataset dimensions:  (14799, 785) \n",
            "\n"
          ]
        }
      ]
    },
    {
      "cell_type": "code",
      "source": [
        "def flip_img(data, row_num):\n",
        "    #print(data)\n",
        "    return np.transpose(data.values[row_num,1:].reshape(28, 28), axes=[1,0]).reshape(28,28,1)"
      ],
      "metadata": {
        "id": "S2ifOZM8oI2g"
      },
      "execution_count": null,
      "outputs": []
    },
    {
      "cell_type": "code",
      "source": [
        "columns = ['labels']\n",
        "for i in range(train_pd.shape[1]-1):\n",
        "    columns.append(i)\n",
        "\n",
        "train_pd.columns = columns\n",
        "test_pd.columns = columns\n",
        "\n",
        "classes = train_pd['labels'].unique()\n",
        "print('number of classes: ', len(classes))\n",
        "\n",
        "train_pd.head()"
      ],
      "metadata": {
        "colab": {
          "base_uri": "https://localhost:8080/",
          "height": 253
        },
        "id": "JdsNXy2apl0e",
        "outputId": "15c86c03-f457-437e-cd41-63ac9ba305d1"
      },
      "execution_count": null,
      "outputs": [
        {
          "output_type": "stream",
          "name": "stdout",
          "text": [
            "number of classes:  26\n"
          ]
        },
        {
          "output_type": "execute_result",
          "data": {
            "text/plain": [
              "   labels  0  1  2  3  4  5  6  7  8  ...  774  775  776  777  778  779  780  \\\n",
              "0       7  0  0  0  0  0  0  0  0  0  ...    0    0    0    0    0    0    0   \n",
              "1      16  0  0  0  0  0  0  0  0  0  ...    0    0    0    0    0    0    0   \n",
              "2      15  0  0  0  0  0  0  0  0  0  ...    0    0    0    0    0    0    0   \n",
              "3      23  0  0  0  0  0  0  0  0  0  ...    0    0    0    0    0    0    0   \n",
              "4      17  0  0  0  0  0  0  0  0  0  ...    0    0    0    0    0    0    0   \n",
              "\n",
              "   781  782  783  \n",
              "0    0    0    0  \n",
              "1    0    0    0  \n",
              "2    0    0    0  \n",
              "3    0    0    0  \n",
              "4    0    0    0  \n",
              "\n",
              "[5 rows x 785 columns]"
            ],
            "text/html": [
              "\n",
              "  <div id=\"df-d80a96cf-28e5-44d7-a880-02e5a99854c9\">\n",
              "    <div class=\"colab-df-container\">\n",
              "      <div>\n",
              "<style scoped>\n",
              "    .dataframe tbody tr th:only-of-type {\n",
              "        vertical-align: middle;\n",
              "    }\n",
              "\n",
              "    .dataframe tbody tr th {\n",
              "        vertical-align: top;\n",
              "    }\n",
              "\n",
              "    .dataframe thead th {\n",
              "        text-align: right;\n",
              "    }\n",
              "</style>\n",
              "<table border=\"1\" class=\"dataframe\">\n",
              "  <thead>\n",
              "    <tr style=\"text-align: right;\">\n",
              "      <th></th>\n",
              "      <th>labels</th>\n",
              "      <th>0</th>\n",
              "      <th>1</th>\n",
              "      <th>2</th>\n",
              "      <th>3</th>\n",
              "      <th>4</th>\n",
              "      <th>5</th>\n",
              "      <th>6</th>\n",
              "      <th>7</th>\n",
              "      <th>8</th>\n",
              "      <th>...</th>\n",
              "      <th>774</th>\n",
              "      <th>775</th>\n",
              "      <th>776</th>\n",
              "      <th>777</th>\n",
              "      <th>778</th>\n",
              "      <th>779</th>\n",
              "      <th>780</th>\n",
              "      <th>781</th>\n",
              "      <th>782</th>\n",
              "      <th>783</th>\n",
              "    </tr>\n",
              "  </thead>\n",
              "  <tbody>\n",
              "    <tr>\n",
              "      <th>0</th>\n",
              "      <td>7</td>\n",
              "      <td>0</td>\n",
              "      <td>0</td>\n",
              "      <td>0</td>\n",
              "      <td>0</td>\n",
              "      <td>0</td>\n",
              "      <td>0</td>\n",
              "      <td>0</td>\n",
              "      <td>0</td>\n",
              "      <td>0</td>\n",
              "      <td>...</td>\n",
              "      <td>0</td>\n",
              "      <td>0</td>\n",
              "      <td>0</td>\n",
              "      <td>0</td>\n",
              "      <td>0</td>\n",
              "      <td>0</td>\n",
              "      <td>0</td>\n",
              "      <td>0</td>\n",
              "      <td>0</td>\n",
              "      <td>0</td>\n",
              "    </tr>\n",
              "    <tr>\n",
              "      <th>1</th>\n",
              "      <td>16</td>\n",
              "      <td>0</td>\n",
              "      <td>0</td>\n",
              "      <td>0</td>\n",
              "      <td>0</td>\n",
              "      <td>0</td>\n",
              "      <td>0</td>\n",
              "      <td>0</td>\n",
              "      <td>0</td>\n",
              "      <td>0</td>\n",
              "      <td>...</td>\n",
              "      <td>0</td>\n",
              "      <td>0</td>\n",
              "      <td>0</td>\n",
              "      <td>0</td>\n",
              "      <td>0</td>\n",
              "      <td>0</td>\n",
              "      <td>0</td>\n",
              "      <td>0</td>\n",
              "      <td>0</td>\n",
              "      <td>0</td>\n",
              "    </tr>\n",
              "    <tr>\n",
              "      <th>2</th>\n",
              "      <td>15</td>\n",
              "      <td>0</td>\n",
              "      <td>0</td>\n",
              "      <td>0</td>\n",
              "      <td>0</td>\n",
              "      <td>0</td>\n",
              "      <td>0</td>\n",
              "      <td>0</td>\n",
              "      <td>0</td>\n",
              "      <td>0</td>\n",
              "      <td>...</td>\n",
              "      <td>0</td>\n",
              "      <td>0</td>\n",
              "      <td>0</td>\n",
              "      <td>0</td>\n",
              "      <td>0</td>\n",
              "      <td>0</td>\n",
              "      <td>0</td>\n",
              "      <td>0</td>\n",
              "      <td>0</td>\n",
              "      <td>0</td>\n",
              "    </tr>\n",
              "    <tr>\n",
              "      <th>3</th>\n",
              "      <td>23</td>\n",
              "      <td>0</td>\n",
              "      <td>0</td>\n",
              "      <td>0</td>\n",
              "      <td>0</td>\n",
              "      <td>0</td>\n",
              "      <td>0</td>\n",
              "      <td>0</td>\n",
              "      <td>0</td>\n",
              "      <td>0</td>\n",
              "      <td>...</td>\n",
              "      <td>0</td>\n",
              "      <td>0</td>\n",
              "      <td>0</td>\n",
              "      <td>0</td>\n",
              "      <td>0</td>\n",
              "      <td>0</td>\n",
              "      <td>0</td>\n",
              "      <td>0</td>\n",
              "      <td>0</td>\n",
              "      <td>0</td>\n",
              "    </tr>\n",
              "    <tr>\n",
              "      <th>4</th>\n",
              "      <td>17</td>\n",
              "      <td>0</td>\n",
              "      <td>0</td>\n",
              "      <td>0</td>\n",
              "      <td>0</td>\n",
              "      <td>0</td>\n",
              "      <td>0</td>\n",
              "      <td>0</td>\n",
              "      <td>0</td>\n",
              "      <td>0</td>\n",
              "      <td>...</td>\n",
              "      <td>0</td>\n",
              "      <td>0</td>\n",
              "      <td>0</td>\n",
              "      <td>0</td>\n",
              "      <td>0</td>\n",
              "      <td>0</td>\n",
              "      <td>0</td>\n",
              "      <td>0</td>\n",
              "      <td>0</td>\n",
              "      <td>0</td>\n",
              "    </tr>\n",
              "  </tbody>\n",
              "</table>\n",
              "<p>5 rows × 785 columns</p>\n",
              "</div>\n",
              "      <button class=\"colab-df-convert\" onclick=\"convertToInteractive('df-d80a96cf-28e5-44d7-a880-02e5a99854c9')\"\n",
              "              title=\"Convert this dataframe to an interactive table.\"\n",
              "              style=\"display:none;\">\n",
              "        \n",
              "  <svg xmlns=\"http://www.w3.org/2000/svg\" height=\"24px\"viewBox=\"0 0 24 24\"\n",
              "       width=\"24px\">\n",
              "    <path d=\"M0 0h24v24H0V0z\" fill=\"none\"/>\n",
              "    <path d=\"M18.56 5.44l.94 2.06.94-2.06 2.06-.94-2.06-.94-.94-2.06-.94 2.06-2.06.94zm-11 1L8.5 8.5l.94-2.06 2.06-.94-2.06-.94L8.5 2.5l-.94 2.06-2.06.94zm10 10l.94 2.06.94-2.06 2.06-.94-2.06-.94-.94-2.06-.94 2.06-2.06.94z\"/><path d=\"M17.41 7.96l-1.37-1.37c-.4-.4-.92-.59-1.43-.59-.52 0-1.04.2-1.43.59L10.3 9.45l-7.72 7.72c-.78.78-.78 2.05 0 2.83L4 21.41c.39.39.9.59 1.41.59.51 0 1.02-.2 1.41-.59l7.78-7.78 2.81-2.81c.8-.78.8-2.07 0-2.86zM5.41 20L4 18.59l7.72-7.72 1.47 1.35L5.41 20z\"/>\n",
              "  </svg>\n",
              "      </button>\n",
              "      \n",
              "  <style>\n",
              "    .colab-df-container {\n",
              "      display:flex;\n",
              "      flex-wrap:wrap;\n",
              "      gap: 12px;\n",
              "    }\n",
              "\n",
              "    .colab-df-convert {\n",
              "      background-color: #E8F0FE;\n",
              "      border: none;\n",
              "      border-radius: 50%;\n",
              "      cursor: pointer;\n",
              "      display: none;\n",
              "      fill: #1967D2;\n",
              "      height: 32px;\n",
              "      padding: 0 0 0 0;\n",
              "      width: 32px;\n",
              "    }\n",
              "\n",
              "    .colab-df-convert:hover {\n",
              "      background-color: #E2EBFA;\n",
              "      box-shadow: 0px 1px 2px rgba(60, 64, 67, 0.3), 0px 1px 3px 1px rgba(60, 64, 67, 0.15);\n",
              "      fill: #174EA6;\n",
              "    }\n",
              "\n",
              "    [theme=dark] .colab-df-convert {\n",
              "      background-color: #3B4455;\n",
              "      fill: #D2E3FC;\n",
              "    }\n",
              "\n",
              "    [theme=dark] .colab-df-convert:hover {\n",
              "      background-color: #434B5C;\n",
              "      box-shadow: 0px 1px 3px 1px rgba(0, 0, 0, 0.15);\n",
              "      filter: drop-shadow(0px 1px 2px rgba(0, 0, 0, 0.3));\n",
              "      fill: #FFFFFF;\n",
              "    }\n",
              "  </style>\n",
              "\n",
              "      <script>\n",
              "        const buttonEl =\n",
              "          document.querySelector('#df-d80a96cf-28e5-44d7-a880-02e5a99854c9 button.colab-df-convert');\n",
              "        buttonEl.style.display =\n",
              "          google.colab.kernel.accessAllowed ? 'block' : 'none';\n",
              "\n",
              "        async function convertToInteractive(key) {\n",
              "          const element = document.querySelector('#df-d80a96cf-28e5-44d7-a880-02e5a99854c9');\n",
              "          const dataTable =\n",
              "            await google.colab.kernel.invokeFunction('convertToInteractive',\n",
              "                                                     [key], {});\n",
              "          if (!dataTable) return;\n",
              "\n",
              "          const docLinkHtml = 'Like what you see? Visit the ' +\n",
              "            '<a target=\"_blank\" href=https://colab.research.google.com/notebooks/data_table.ipynb>data table notebook</a>'\n",
              "            + ' to learn more about interactive tables.';\n",
              "          element.innerHTML = '';\n",
              "          dataTable['output_type'] = 'display_data';\n",
              "          await google.colab.output.renderOutput(dataTable, element);\n",
              "          const docLink = document.createElement('div');\n",
              "          docLink.innerHTML = docLinkHtml;\n",
              "          element.appendChild(docLink);\n",
              "        }\n",
              "      </script>\n",
              "    </div>\n",
              "  </div>\n",
              "  "
            ]
          },
          "metadata": {},
          "execution_count": 46
        }
      ]
    },
    {
      "cell_type": "code",
      "source": [
        "data = []\n",
        "for i in range(88799):\n",
        "  data.append(flip_img(train_pd,i))\n",
        "np_data = np.array(data)"
      ],
      "metadata": {
        "id": "1pXHtFt-qXTN"
      },
      "execution_count": null,
      "outputs": []
    },
    {
      "cell_type": "code",
      "source": [
        "from sklearn.model_selection import train_test_split\n",
        "x_train, x_val, y_train, y_val = train_test_split(np_data,\n",
        "                                                  train_pd.labels - 1,\n",
        "                                                  test_size=0.03,\n",
        "                                                  random_state=42)\n",
        "\n",
        "x_train = x_train / 255.0\n",
        "x_val = x_val / 255.0\n",
        "\n",
        "testX = test_pd.values[:, 1:].reshape(test_pd.shape[0],28, 28, 1).astype('float32')\n",
        "x_test = testX / 255.0\n",
        "y_test = test_pd['labels'].values - 1 # this is just to make the neurons in the output layer start at 0\n",
        "\n",
        "print('trianing set: ', x_train.shape, y_train.shape)\n",
        "print('validation set: ', x_val.shape, y_val.shape)\n",
        "print('test set: ', x_test.shape, y_test.shape)"
      ],
      "metadata": {
        "colab": {
          "base_uri": "https://localhost:8080/"
        },
        "id": "qk0zggbCpsoz",
        "outputId": "dafa9007-1699-4d3f-86cc-478e41f609e7"
      },
      "execution_count": null,
      "outputs": [
        {
          "output_type": "stream",
          "name": "stdout",
          "text": [
            "trianing set:  (86135, 28, 28, 1) (86135,)\n",
            "validation set:  (2664, 28, 28, 1) (2664,)\n",
            "test set:  (14799, 28, 28, 1) (14799,)\n"
          ]
        }
      ]
    },
    {
      "cell_type": "code",
      "source": [
        "train = tf.data.Dataset.from_tensor_slices((x_train, y_train))"
      ],
      "metadata": {
        "id": "OeWr30UZsCPR"
      },
      "execution_count": null,
      "outputs": []
    },
    {
      "cell_type": "code",
      "source": [
        "train"
      ],
      "metadata": {
        "colab": {
          "base_uri": "https://localhost:8080/"
        },
        "id": "lJBXT7R0sSH_",
        "outputId": "1943bd4a-3f97-42b2-eaea-0cb75c372b31"
      },
      "execution_count": null,
      "outputs": [
        {
          "output_type": "execute_result",
          "data": {
            "text/plain": [
              "<TensorSliceDataset element_spec=(TensorSpec(shape=(28, 28, 1), dtype=tf.float64, name=None), TensorSpec(shape=(), dtype=tf.int64, name=None))>"
            ]
          },
          "metadata": {},
          "execution_count": 50
        }
      ]
    },
    {
      "cell_type": "code",
      "source": [
        "val = tf.data.Dataset.from_tensor_slices((x_val,y_val))\n",
        "test = tf.data.Dataset.from_tensor_slices((x_test,y_test))"
      ],
      "metadata": {
        "id": "qQwgZFefsql_"
      },
      "execution_count": null,
      "outputs": []
    },
    {
      "cell_type": "code",
      "source": [
        "pre_model = tf.keras.Sequential([\n",
        "    tf.keras.layers.RandomZoom(height_factor=(-0.1,0.1), width_factor=(-0.1,0.1)),\n",
        "    tf.keras.layers.RandomRotation(0.075, fill_mode='nearest'),\n",
        "    tf.keras.layers.RandomBrightness(0.1, value_range=(0.,1.)),\n",
        "    tf.keras.layers.RandomTranslation(height_factor=(-0.1,0.1), width_factor=(-0.1,0.1))\n",
        "])"
      ],
      "metadata": {
        "id": "1CEjHn9NwbK3"
      },
      "execution_count": null,
      "outputs": []
    },
    {
      "cell_type": "code",
      "source": [
        "train_aug = train.map(\n",
        "  lambda x, y: (pre_model(x), y))"
      ],
      "metadata": {
        "id": "0B8JxneYxpqd"
      },
      "execution_count": null,
      "outputs": []
    },
    {
      "cell_type": "code",
      "source": [
        "val_aug = val.map(\n",
        "  lambda x, y: (pre_model(x), y))"
      ],
      "metadata": {
        "id": "LwdWyUjox8yd"
      },
      "execution_count": null,
      "outputs": []
    },
    {
      "cell_type": "code",
      "source": [
        "plt.figure(figsize=(6, 6))\n",
        "plt.suptitle('Training set')\n",
        "k=1\n",
        "for i,j in val_aug.take(12):\n",
        "    print(type(i))\n",
        "    plt.subplot(3, 4, k)\n",
        "    plt.imshow(i.numpy().reshape(28,28), cmap='binary')\n",
        "    plt.title(f'label: {j}')\n",
        "    plt.axis('off')\n",
        "    k+=1"
      ],
      "metadata": {
        "colab": {
          "base_uri": "https://localhost:8080/",
          "height": 597
        },
        "id": "Rn1RAZ_3y0Dn",
        "outputId": "c1db416d-7ea4-44b8-d231-7ce35e6ec897"
      },
      "execution_count": null,
      "outputs": [
        {
          "output_type": "stream",
          "name": "stdout",
          "text": [
            "<class 'tensorflow.python.framework.ops.EagerTensor'>\n",
            "<class 'tensorflow.python.framework.ops.EagerTensor'>\n",
            "<class 'tensorflow.python.framework.ops.EagerTensor'>\n",
            "<class 'tensorflow.python.framework.ops.EagerTensor'>\n",
            "<class 'tensorflow.python.framework.ops.EagerTensor'>\n",
            "<class 'tensorflow.python.framework.ops.EagerTensor'>\n",
            "<class 'tensorflow.python.framework.ops.EagerTensor'>\n",
            "<class 'tensorflow.python.framework.ops.EagerTensor'>\n",
            "<class 'tensorflow.python.framework.ops.EagerTensor'>\n",
            "<class 'tensorflow.python.framework.ops.EagerTensor'>\n",
            "<class 'tensorflow.python.framework.ops.EagerTensor'>\n",
            "<class 'tensorflow.python.framework.ops.EagerTensor'>\n"
          ]
        },
        {
          "output_type": "display_data",
          "data": {
            "text/plain": [
              "<Figure size 432x432 with 12 Axes>"
            ],
            "image/png": "[encoded data removed]"
          },
          "metadata": {
            "needs_background": "light"
          }
        }
      ]
    },
    {
      "cell_type": "code",
      "source": [
        "y_aug_train = np.stack([y for x, y in train_aug], axis=0)\n",
        "x_aug_train = np.stack([x for x, y in train_aug], axis=0)"
      ],
      "metadata": {
        "id": "PBfRlm3Kz8h_"
      },
      "execution_count": null,
      "outputs": []
    },
    {
      "cell_type": "code",
      "source": [
        "x_train_combined = np.concatenate((x_train, x_aug_train))\n",
        "y_train_combined = np.concatenate((y_train, y_aug_train))"
      ],
      "metadata": {
        "id": "dRYemSRiXb9W"
      },
      "execution_count": null,
      "outputs": []
    },
    {
      "cell_type": "code",
      "source": [
        "plt.imshow(x_train_combined[0].reshape((28,28)), cmap='gray')\n",
        "print(y_train_combined[0])"
      ],
      "metadata": {
        "colab": {
          "base_uri": "https://localhost:8080/",
          "height": 282
        },
        "id": "RPzOT3-jYS3f",
        "outputId": "24cf76b5-e379-4e69-9060-dfe7127e3359"
      },
      "execution_count": null,
      "outputs": [
        {
          "output_type": "stream",
          "name": "stdout",
          "text": [
            "8\n"
          ]
        },
        {
          "output_type": "display_data",
          "data": {
            "text/plain": [
              "<Figure size 432x288 with 1 Axes>"
            ],
            "image/png": "[encoded data removed]"
          },
          "metadata": {
            "needs_background": "light"
          }
        }
      ]
    },
    {
      "cell_type": "code",
      "source": [
        "y_aug_train.shape"
      ],
      "metadata": {
        "colab": {
          "base_uri": "https://localhost:8080/"
        },
        "id": "u1qwnjXh1v0l",
        "outputId": "a04d5515-128a-40b1-815e-305e6e4a4207"
      },
      "execution_count": null,
      "outputs": [
        {
          "output_type": "execute_result",
          "data": {
            "text/plain": [
              "(86135,)"
            ]
          },
          "metadata": {},
          "execution_count": 59
        }
      ]
    },
    {
      "cell_type": "code",
      "source": [
        "y_aug_val = np.stack([y for x, y in val_aug], axis=0)\n",
        "x_aug_val = np.stack([x for x, y in val_aug], axis=0)"
      ],
      "metadata": {
        "id": "Er-eeWcn03U_"
      },
      "execution_count": null,
      "outputs": []
    },
    {
      "cell_type": "code",
      "source": [
        "x_val_combined = np.concatenate((x_val, x_aug_val))\n",
        "y_val_combined = np.concatenate((y_val, y_aug_val))"
      ],
      "metadata": {
        "id": "cGxEjQZLasVO"
      },
      "execution_count": null,
      "outputs": []
    },
    {
      "cell_type": "code",
      "source": [
        "x_aug_train[0].shape"
      ],
      "metadata": {
        "colab": {
          "base_uri": "https://localhost:8080/"
        },
        "id": "9LNp895kSaXZ",
        "outputId": "cbcc817d-20bb-4524-fcce-7eccd25b5315"
      },
      "execution_count": null,
      "outputs": [
        {
          "output_type": "execute_result",
          "data": {
            "text/plain": [
              "(28, 28, 1)"
            ]
          },
          "metadata": {},
          "execution_count": 62
        }
      ]
    },
    {
      "cell_type": "code",
      "source": [
        "model = tf.keras.Sequential([\n",
        "    tf.keras.layers.Flatten(),\n",
        "    tf.keras.layers.Reshape(input_shape=(784,), target_shape=(28,28,1)),\n",
        "    tf.keras.layers.Conv2D(64,3, padding='same'),\n",
        "    tf.keras.layers.MaxPooling2D(2,2),\n",
        "    tf.keras.layers.Dropout(0.5),\n",
        "    tf.keras.layers.Conv2D(32,3, padding='same'),\n",
        "    tf.keras.layers.MaxPooling2D(2,2),\n",
        "    tf.keras.layers.Dropout(0.3),\n",
        "    tf.keras.layers.Conv2D(128,3, padding='same'),\n",
        "    tf.keras.layers.MaxPooling2D(2,2),\n",
        "    tf.keras.layers.Dropout(0.2),\n",
        "    tf.keras.layers.Flatten(),\n",
        "    tf.keras.layers.Normalization(),\n",
        "    tf.keras.layers.Dense(1024,activation='relu'),\n",
        "    tf.keras.layers.Dropout(0.5),\n",
        "    tf.keras.layers.Dense(256,activation='relu'),\n",
        "    tf.keras.layers.Normalization(),\n",
        "    tf.keras.layers.Dense(256,activation='elu'),\n",
        "    tf.keras.layers.Dense(512,activation='swish'),\n",
        "    tf.keras.layers.Normalization(),\n",
        "    tf.keras.layers.Dense(len(classes),activation='softmax')])\n",
        "# compile model\n",
        "model.compile(optimizer=\"adam\", loss='sparse_categorical_crossentropy', metrics=['accuracy'])\n",
        "#model.summary()"
      ],
      "metadata": {
        "id": "7nb247Hy2SIx"
      },
      "execution_count": null,
      "outputs": []
    },
    {
      "cell_type": "code",
      "source": [
        "from tensorflow.keras.callbacks import EarlyStopping, ReduceLROnPlateau,ModelCheckpoint\n",
        "MCP = ModelCheckpoint('Best_points.h5',verbose=1,save_best_only=True,monitor='val_accuracy',mode='max')\n",
        "ES = EarlyStopping(monitor='val_accuracy',min_delta=0,verbose=0,restore_best_weights = True,patience=7,mode='max')\n",
        "RLP = ReduceLROnPlateau(monitor='val_loss',patience=5,factor=0.2,min_lr=0.01)"
      ],
      "metadata": {
        "id": "VOKlWKOe3yN2"
      },
      "execution_count": null,
      "outputs": []
    },
    {
      "cell_type": "code",
      "source": [
        "history = model.fit(x_train_combined, y_train_combined, epochs=30,validation_data=(x_val_combined, y_val_combined),callbacks=[MCP, ES])"
      ],
      "metadata": {
        "colab": {
          "base_uri": "https://localhost:8080/"
        },
        "id": "x946onZT30p_",
        "outputId": "9c65e3ab-d80e-4cae-d32c-f76a0b346d5d"
      },
      "execution_count": null,
      "outputs": [
        {
          "output_type": "stream",
          "name": "stdout",
          "text": [
            "Epoch 1/30\n",
            "5384/5384 [==============================] - ETA: 0s - loss: 0.5160 - accuracy: 0.8335\n",
            "Epoch 1: val_accuracy improved from -inf to 0.89377, saving model to Best_points.h5\n",
            "5384/5384 [==============================] - 42s 6ms/step - loss: 0.5160 - accuracy: 0.8335 - val_loss: 0.3364 - val_accuracy: 0.8938\n",
            "Epoch 2/30\n",
            "5381/5384 [============================>.] - ETA: 0s - loss: 0.3339 - accuracy: 0.8933\n",
            "Epoch 2: val_accuracy improved from 0.89377 to 0.90165, saving model to Best_points.h5\n",
            "5384/5384 [==============================] - 31s 6ms/step - loss: 0.3339 - accuracy: 0.8933 - val_loss: 0.3280 - val_accuracy: 0.9017\n",
            "Epoch 3/30\n",
            "5377/5384 [============================>.] - ETA: 0s - loss: 0.3057 - accuracy: 0.9027\n",
            "Epoch 3: val_accuracy improved from 0.90165 to 0.92417, saving model to Best_points.h5\n",
            "5384/5384 [==============================] - 30s 6ms/step - loss: 0.3057 - accuracy: 0.9027 - val_loss: 0.2377 - val_accuracy: 0.9242\n",
            "Epoch 4/30\n",
            "5382/5384 [============================>.] - ETA: 0s - loss: 0.2919 - accuracy: 0.9078\n",
            "Epoch 4: val_accuracy did not improve from 0.92417\n",
            "5384/5384 [==============================] - 31s 6ms/step - loss: 0.2919 - accuracy: 0.9078 - val_loss: 0.2641 - val_accuracy: 0.9230\n",
            "Epoch 5/30\n",
            "5378/5384 [============================>.] - ETA: 0s - loss: 0.2842 - accuracy: 0.9107\n",
            "Epoch 5: val_accuracy improved from 0.92417 to 0.92905, saving model to Best_points.h5\n",
            "5384/5384 [==============================] - 30s 6ms/step - loss: 0.2841 - accuracy: 0.9108 - val_loss: 0.2338 - val_accuracy: 0.9291\n",
            "Epoch 6/30\n",
            "5377/5384 [============================>.] - ETA: 0s - loss: 0.2768 - accuracy: 0.9133\n",
            "Epoch 6: val_accuracy did not improve from 0.92905\n",
            "5384/5384 [==============================] - 30s 6ms/step - loss: 0.2767 - accuracy: 0.9133 - val_loss: 0.2283 - val_accuracy: 0.9287\n",
            "Epoch 7/30\n",
            "5376/5384 [============================>.] - ETA: 0s - loss: 0.2793 - accuracy: 0.9143\n",
            "Epoch 7: val_accuracy improved from 0.92905 to 0.93544, saving model to Best_points.h5\n",
            "5384/5384 [==============================] - 30s 6ms/step - loss: 0.2794 - accuracy: 0.9143 - val_loss: 0.2440 - val_accuracy: 0.9354\n",
            "Epoch 8/30\n",
            "5379/5384 [============================>.] - ETA: 0s - loss: 0.2737 - accuracy: 0.9170\n",
            "Epoch 8: val_accuracy did not improve from 0.93544\n",
            "5384/5384 [==============================] - 31s 6ms/step - loss: 0.2737 - accuracy: 0.9170 - val_loss: 0.2538 - val_accuracy: 0.9234\n",
            "Epoch 9/30\n",
            "5379/5384 [============================>.] - ETA: 0s - loss: 0.2714 - accuracy: 0.9164\n",
            "Epoch 9: val_accuracy did not improve from 0.93544\n",
            "5384/5384 [==============================] - 30s 6ms/step - loss: 0.2714 - accuracy: 0.9164 - val_loss: 0.3081 - val_accuracy: 0.9238\n",
            "Epoch 10/30\n",
            "5377/5384 [============================>.] - ETA: 0s - loss: 0.2850 - accuracy: 0.9147\n",
            "Epoch 10: val_accuracy did not improve from 0.93544\n",
            "5384/5384 [==============================] - 30s 6ms/step - loss: 0.2851 - accuracy: 0.9147 - val_loss: 0.2133 - val_accuracy: 0.9332\n",
            "Epoch 11/30\n",
            "5377/5384 [============================>.] - ETA: 0s - loss: 0.2755 - accuracy: 0.9177\n",
            "Epoch 11: val_accuracy did not improve from 0.93544\n",
            "5384/5384 [==============================] - 31s 6ms/step - loss: 0.2755 - accuracy: 0.9177 - val_loss: 0.2331 - val_accuracy: 0.9332\n",
            "Epoch 12/30\n",
            "5380/5384 [============================>.] - ETA: 0s - loss: 0.2769 - accuracy: 0.9171\n",
            "Epoch 12: val_accuracy improved from 0.93544 to 0.93881, saving model to Best_points.h5\n",
            "5384/5384 [==============================] - 30s 6ms/step - loss: 0.2770 - accuracy: 0.9171 - val_loss: 0.2315 - val_accuracy: 0.9388\n",
            "Epoch 13/30\n",
            "5384/5384 [==============================] - ETA: 0s - loss: 0.2656 - accuracy: 0.9202\n",
            "Epoch 13: val_accuracy improved from 0.93881 to 0.94032, saving model to Best_points.h5\n",
            "5384/5384 [==============================] - 30s 6ms/step - loss: 0.2656 - accuracy: 0.9202 - val_loss: 0.2207 - val_accuracy: 0.9403\n",
            "Epoch 14/30\n",
            "5377/5384 [============================>.] - ETA: 0s - loss: 0.2772 - accuracy: 0.9197\n",
            "Epoch 14: val_accuracy did not improve from 0.94032\n",
            "5384/5384 [==============================] - 30s 6ms/step - loss: 0.2772 - accuracy: 0.9197 - val_loss: 0.2193 - val_accuracy: 0.9362\n",
            "Epoch 15/30\n",
            "5383/5384 [============================>.] - ETA: 0s - loss: 0.3361 - accuracy: 0.9065\n",
            "Epoch 15: val_accuracy did not improve from 0.94032\n",
            "5384/5384 [==============================] - 30s 6ms/step - loss: 0.3361 - accuracy: 0.9065 - val_loss: 0.2342 - val_accuracy: 0.9313\n",
            "Epoch 16/30\n",
            "5384/5384 [==============================] - ETA: 0s - loss: 0.3079 - accuracy: 0.9130\n",
            "Epoch 16: val_accuracy did not improve from 0.94032\n",
            "5384/5384 [==============================] - 30s 6ms/step - loss: 0.3079 - accuracy: 0.9130 - val_loss: 0.2295 - val_accuracy: 0.9332\n",
            "Epoch 17/30\n",
            "5380/5384 [============================>.] - ETA: 0s - loss: 0.2832 - accuracy: 0.9181\n",
            "Epoch 17: val_accuracy improved from 0.94032 to 0.94294, saving model to Best_points.h5\n",
            "5384/5384 [==============================] - 31s 6ms/step - loss: 0.2832 - accuracy: 0.9182 - val_loss: 0.2066 - val_accuracy: 0.9429\n",
            "Epoch 18/30\n",
            "5384/5384 [==============================] - ETA: 0s - loss: 0.2783 - accuracy: 0.9193\n",
            "Epoch 18: val_accuracy did not improve from 0.94294\n",
            "5384/5384 [==============================] - 31s 6ms/step - loss: 0.2783 - accuracy: 0.9193 - val_loss: 0.2486 - val_accuracy: 0.9291\n",
            "Epoch 19/30\n",
            "5376/5384 [============================>.] - ETA: 0s - loss: 0.2755 - accuracy: 0.9210\n",
            "Epoch 19: val_accuracy did not improve from 0.94294\n",
            "5384/5384 [==============================] - 30s 6ms/step - loss: 0.2755 - accuracy: 0.9210 - val_loss: 0.2605 - val_accuracy: 0.9294\n",
            "Epoch 20/30\n",
            "5376/5384 [============================>.] - ETA: 0s - loss: 0.3426 - accuracy: 0.9109\n",
            "Epoch 20: val_accuracy did not improve from 0.94294\n",
            "5384/5384 [==============================] - 30s 6ms/step - loss: 0.3424 - accuracy: 0.9109 - val_loss: 0.2309 - val_accuracy: 0.9381\n",
            "Epoch 21/30\n",
            "5377/5384 [============================>.] - ETA: 0s - loss: 0.3007 - accuracy: 0.9183\n",
            "Epoch 21: val_accuracy did not improve from 0.94294\n",
            "5384/5384 [==============================] - 31s 6ms/step - loss: 0.3008 - accuracy: 0.9183 - val_loss: 0.2901 - val_accuracy: 0.9283\n",
            "Epoch 22/30\n",
            "5381/5384 [============================>.] - ETA: 0s - loss: 0.3142 - accuracy: 0.9143\n",
            "Epoch 22: val_accuracy did not improve from 0.94294\n",
            "5384/5384 [==============================] - 31s 6ms/step - loss: 0.3141 - accuracy: 0.9143 - val_loss: 0.2828 - val_accuracy: 0.9279\n",
            "Epoch 23/30\n",
            "5378/5384 [============================>.] - ETA: 0s - loss: 0.3706 - accuracy: 0.9091\n",
            "Epoch 23: val_accuracy did not improve from 0.94294\n",
            "5384/5384 [==============================] - 31s 6ms/step - loss: 0.3705 - accuracy: 0.9092 - val_loss: 0.3212 - val_accuracy: 0.9253\n",
            "Epoch 24/30\n",
            "5382/5384 [============================>.] - ETA: 0s - loss: 0.5368 - accuracy: 0.9055\n",
            "Epoch 24: val_accuracy did not improve from 0.94294\n",
            "5384/5384 [==============================] - 31s 6ms/step - loss: 0.5368 - accuracy: 0.9055 - val_loss: 0.3048 - val_accuracy: 0.9268\n"
          ]
        }
      ]
    },
    {
      "cell_type": "code",
      "source": [
        "data = []\n",
        "for i in range(14799):\n",
        "  data.append(flip_img(test_pd,i))\n",
        "np_data = np.array(data)\n",
        "test_x = np_data/255.0"
      ],
      "metadata": {
        "id": "GHhnYyCjbsX7"
      },
      "execution_count": null,
      "outputs": []
    },
    {
      "cell_type": "code",
      "source": [
        "evaluate = model.evaluate(test_x, y_test)"
      ],
      "metadata": {
        "colab": {
          "base_uri": "https://localhost:8080/"
        },
        "id": "f6Ne-QxbbXYt",
        "outputId": "4b226560-b271-443b-e512-55ae6af02654"
      },
      "execution_count": null,
      "outputs": [
        {
          "output_type": "stream",
          "name": "stdout",
          "text": [
            "463/463 [==============================] - 2s 4ms/step - loss: 0.2549 - accuracy: 0.9290\n"
          ]
        }
      ]
    },
    {
      "cell_type": "code",
      "source": [
        "model.save('ocr.h5')"
      ],
      "metadata": {
        "id": "lg5FSd8BIN0W"
      },
      "execution_count": null,
      "outputs": []
    },
    {
      "cell_type": "code",
      "source": [
        "import cv2"
      ],
      "metadata": {
        "id": "meNulu_XlP-T"
      },
      "execution_count": null,
      "outputs": []
    },
    {
      "cell_type": "code",
      "source": [
        "def sort_contours(cnts, method=\"left-to-right\"):\n",
        "\t# initialize the reverse flag and sort index\n",
        "\treverse = False\n",
        "\ti = 0\n",
        "\t# handle if we need to sort in reverse\n",
        "\tif method == \"right-to-left\" or method == \"bottom-to-top\":\n",
        "\t\treverse = True\n",
        "\t# handle if we are sorting against the y-coordinate rather than\n",
        "\t# the x-coordinate of the bounding box\n",
        "\tif method == \"top-to-bottom\" or method == \"bottom-to-top\":\n",
        "\t\ti = 1\n",
        "\t# construct the list of bounding boxes and sort them from top to\n",
        "\t# bottom\n",
        "\tboundingBoxes = [cv2.boundingRect(c) for c in cnts]\n",
        "\t(cnts, boundingBoxes) = zip(*sorted(zip(cnts, boundingBoxes),\n",
        "\t\tkey=lambda b:b[1][i], reverse=reverse))\n",
        "\t# return the list of sorted contours and bounding boxes\n",
        "\treturn (cnts, boundingBoxes)"
      ],
      "metadata": {
        "id": "ERWiBbAZlJmb"
      },
      "execution_count": null,
      "outputs": []
    },
    {
      "cell_type": "code",
      "source": [
        "def ocr_pipeline(pred_img):\n",
        "  grayImage = cv2.cvtColor(pred_img, cv2.COLOR_BGR2GRAY)\n",
        "  im2 = pred_img.copy()\n",
        "  blured1 = cv2.medianBlur(grayImage,3)\n",
        "  blured2 = cv2.medianBlur(grayImage,51)\n",
        "  divided = np.ma.divide(blured1, blured2).data\n",
        "  normed = np.uint8(255*divided/divided.max())\n",
        "  th, threshed = cv2.threshold(normed, 150, 255, cv2.THRESH_BINARY_INV+cv2.THRESH_OTSU)\n",
        "  #threshed = ~threshed\n",
        "  #plt.imshow(threshed, cmap='binary')\n",
        "  #blackAndWhiteImage = cv2.adaptiveThreshold(grayImage,255,cv2.ADAPTIVE_THRESH_GAUSSIAN_C,cv2.THRESH_BINARY_INV,41,15)\n",
        "  #plt.imshow(blackAndWhiteImage, cmap='binary')\n",
        "  rect_kernel = cv2.getStructuringElement(cv2.MORPH_RECT, (3,1))\n",
        "  dilation = cv2.dilate(threshed, rect_kernel, iterations = 2)\n",
        "  #plt.imshow(dilation, cmap='binary')\n",
        "  contours, hierarchy = cv2.findContours(dilation, cv2.RETR_EXTERNAL, cv2.CHAIN_APPROX_SIMPLE)\n",
        "  contours = sort_contours(contours, method='left-to-right')[0]\n",
        "  cropped = []\n",
        "  pred = []\n",
        "  #print(len(contours))\n",
        "  for cnt in contours:\n",
        "    x, y, w, h = cv2.boundingRect(cnt)\n",
        "    rect = cv2.rectangle(im2, (x, y), (x + w, y + h), (0, 255, 0), 2)\n",
        "    #cropped.append(threshed[y:y + h, x:x + w])\n",
        "    cropped.append(cv2.copyMakeBorder(threshed[y:y + h, x:x + w], 5, 5, 5, 5, cv2.BORDER_CONSTANT, None, value = 0))\n",
        "    #plt.imshow(cv2.copyMakeBorder(threshed[y:y + h, x:x + w], 10, 10, 10, 10, cv2.BORDER_CONSTANT, None, value = 0), cmap='binary')\n",
        "  #plt.imshow(im2, cmap='gray')\n",
        "  #print(cropped)\n",
        "  r = []\n",
        "  for c in cropped:\n",
        "    if(c.any()):\n",
        "      #dilation1 = cv2.dilate(c, rect_kernel, iterations = 1)\n",
        "      res = cv2.resize(c,(28,28),interpolation=cv2.INTER_AREA)\n",
        "      r.append(res)\n",
        "      #plt.imshow(res, cmap='gray')\n",
        "      my_pred = model.predict(pd.DataFrame(res.flatten()).T)\n",
        "      pred.append(np.argmax(my_pred)+1)\n",
        "  plt.imshow(r[1], cmap='binary')\n",
        "  return pred"
      ],
      "metadata": {
        "id": "dDJEJp6jlMhW"
      },
      "execution_count": null,
      "outputs": []
    },
    {
      "cell_type": "code",
      "source": [
        "def list_to_string(l):\n",
        "  s = ''\n",
        "  dictionary = 'abcdefghijklmnopqrstuvwxyz'\n",
        "  for i in l:\n",
        "    s+= dictionary[i-1]\n",
        "  return s"
      ],
      "metadata": {
        "id": "6kbRrQ8LsLRn"
      },
      "execution_count": null,
      "outputs": []
    },
    {
      "cell_type": "code",
      "source": [
        "import nltk\n",
        "\n",
        "# importing jaccard distance\n",
        "# and ngrams from nltk.util\n",
        "from nltk.metrics.distance import jaccard_distance\n",
        "from nltk.util import ngrams"
      ],
      "metadata": {
        "id": "NNDHQbDy6ZBB"
      },
      "execution_count": null,
      "outputs": []
    },
    {
      "cell_type": "code",
      "source": [
        "nltk.download('words')\n",
        "from nltk.corpus import words\n",
        "\n",
        "\n",
        "correct_words = words.words()"
      ],
      "metadata": {
        "id": "MYy-hrYGtPw5",
        "colab": {
          "base_uri": "https://localhost:8080/"
        },
        "outputId": "963dbc6a-43c7-4cac-fc3e-35029cbf38f3"
      },
      "execution_count": null,
      "outputs": [
        {
          "output_type": "stream",
          "name": "stderr",
          "text": [
            "[nltk_data] Downloading package words to /root/nltk_data...\n",
            "[nltk_data]   Unzipping corpora/words.zip.\n"
          ]
        }
      ]
    },
    {
      "cell_type": "code",
      "source": [
        "import nltk\n",
        "from nltk.corpus import words\n",
        "from nltk.metrics.distance import (\n",
        "    edit_distance,\n",
        "    jaccard_distance,\n",
        "    )\n",
        "from nltk.util import ngrams\n",
        "nltk.download('words')\n",
        "import pandas"
      ],
      "metadata": {
        "id": "IMZpp6vctRDJ",
        "colab": {
          "base_uri": "https://localhost:8080/"
        },
        "outputId": "d7c3bde0-7385-4d8a-b1b8-c33c8a922ac5"
      },
      "execution_count": null,
      "outputs": [
        {
          "output_type": "stream",
          "name": "stderr",
          "text": [
            "[nltk_data] Downloading package words to /root/nltk_data...\n",
            "[nltk_data]   Package words is already up-to-date!\n"
          ]
        }
      ]
    },
    {
      "cell_type": "code",
      "source": [
        "correct_spellings = words.words()\n",
        "spellings_series = pandas.Series(correct_spellings)\n",
        "spellings_series"
      ],
      "metadata": {
        "id": "AG6OgU_std7e",
        "colab": {
          "base_uri": "https://localhost:8080/"
        },
        "outputId": "332363f5-8d69-43a9-b21d-a6908d91aa35"
      },
      "execution_count": null,
      "outputs": [
        {
          "output_type": "execute_result",
          "data": {
            "text/plain": [
              "0                 A\n",
              "1                 a\n",
              "2                aa\n",
              "3               aal\n",
              "4             aalii\n",
              "            ...    \n",
              "236731       yellow\n",
              "236732          yes\n",
              "236733    yesterday\n",
              "236734          you\n",
              "236735        young\n",
              "Length: 236736, dtype: object"
            ]
          },
          "metadata": {},
          "execution_count": 10
        }
      ]
    },
    {
      "cell_type": "code",
      "source": [
        "def jaccard(entries, gram_number):\n",
        "\n",
        "    outcomes = []\n",
        "    for entry in entries: #iteratively for loop\n",
        "        spellings = spellings_series[spellings_series.str.startswith(entry[0])]\n",
        "        distances = ((jaccard_distance(set(ngrams(entry, gram_number)),\n",
        "                                       set(ngrams(word, gram_number))), word)\n",
        "                     for word in spellings)\n",
        "        closest = min(distances)\n",
        "        outcomes.append(closest[1])\n",
        "    return outcomes"
      ],
      "metadata": {
        "id": "Z6UKbukatfMw"
      },
      "execution_count": null,
      "outputs": []
    },
    {
      "cell_type": "code",
      "source": [
        "temp = [(jaccard_distance(set(ngrams(string_predicted, 2)),\n",
        "                              set(ngrams(w, 2))),w)\n",
        "            for w in correct_words if w[0]==string_predicted[0]]\n",
        "#print(temp)\n",
        "print(sorted(temp, key = lambda val:val[0])[0][1])"
      ],
      "metadata": {
        "id": "kzQAIkJTvGkX",
        "colab": {
          "base_uri": "https://localhost:8080/"
        },
        "outputId": "6910c730-1400-4fd4-c548-004684aa00f8"
      },
      "execution_count": null,
      "outputs": [
        {
          "output_type": "stream",
          "name": "stdout",
          "text": [
            "natural\n"
          ]
        }
      ]
    },
    {
      "cell_type": "code",
      "source": [
        "ocr_model = tf.keras.models.load_model('Best_points (1).h5')"
      ],
      "metadata": {
        "id": "XCI6Q74iosuh"
      },
      "execution_count": null,
      "outputs": []
    },
    {
      "cell_type": "code",
      "source": [
        "img = cv2.imread('test2.jpg')\n",
        "img = cv2.cvtColor(img, cv2.COLOR_BGR2RGB)\n",
        "\n",
        "h, w, c = img.shape\n",
        "\n",
        "if w > 1000:\n",
        "\n",
        "    new_w = 1000\n",
        "    ar = w/h\n",
        "    new_h = int(new_w/ar)\n",
        "\n",
        "    img = cv2.resize(img, (new_w, new_h), interpolation = cv2.INTER_AREA)\n",
        "plt.imshow(img)"
      ],
      "metadata": {
        "colab": {
          "base_uri": "https://localhost:8080/",
          "height": 99
        },
        "id": "XfCtdb-atir0",
        "outputId": "57a33957-2146-4661-8461-6259a92194bc"
      },
      "execution_count": null,
      "outputs": [
        {
          "output_type": "execute_result",
          "data": {
            "text/plain": [
              "<matplotlib.image.AxesImage at 0x7fbb97d97f50>"
            ]
          },
          "metadata": {},
          "execution_count": 135
        },
        {
          "output_type": "display_data",
          "data": {
            "text/plain": [
              "<Figure size 432x288 with 1 Axes>"
            ],
            "image/png": "[encoded data removed]"
          },
          "metadata": {
            "needs_background": "light"
          }
        }
      ]
    },
    {
      "cell_type": "code",
      "source": [
        "def thresholding(pred_img):\n",
        "    grayImage = cv2.cvtColor(pred_img, cv2.COLOR_BGR2GRAY)\n",
        "    im2 = pred_img.copy()\n",
        "    blured1 = cv2.medianBlur(grayImage,3)\n",
        "    blured2 = cv2.medianBlur(grayImage,51)\n",
        "    divided = np.ma.divide(blured1, blured2).data\n",
        "    normed = np.uint8(255*divided/divided.max())\n",
        "    th, thresh = cv2.threshold(normed, 150, 255, cv2.THRESH_BINARY_INV+cv2.THRESH_OTSU)\n",
        "    plt.imshow(thresh, cmap='gray')\n",
        "    return thresh\n",
        "\n",
        "thresh_img = thresholding(img)"
      ],
      "metadata": {
        "colab": {
          "base_uri": "https://localhost:8080/",
          "height": 147
        },
        "id": "6OFbnQDktvA-",
        "outputId": "76b7c9a4-1a49-48b1-e076-5faa415c5c94"
      },
      "execution_count": null,
      "outputs": [
        {
          "output_type": "display_data",
          "data": {
            "text/plain": [
              "<Figure size 432x288 with 1 Axes>"
            ],
            "image/png": "[encoded data removed]"
          },
          "metadata": {
            "needs_background": "light"
          }
        }
      ]
    },
    {
      "cell_type": "code",
      "source": [
        "kernel = np.ones((3,85), np.uint8)\n",
        "dilated = cv2.dilate(thresh_img, kernel, iterations = 1)\n",
        "plt.imshow(dilated, cmap='gray')"
      ],
      "metadata": {
        "colab": {
          "base_uri": "https://localhost:8080/",
          "height": 99
        },
        "id": "FayOzjw3t0Ku",
        "outputId": "5633254e-2409-42a7-aee2-7f90e085c593"
      },
      "execution_count": null,
      "outputs": [
        {
          "output_type": "execute_result",
          "data": {
            "text/plain": [
              "<matplotlib.image.AxesImage at 0x7fbb95c9ef90>"
            ]
          },
          "metadata": {},
          "execution_count": 137
        },
        {
          "output_type": "display_data",
          "data": {
            "text/plain": [
              "<Figure size 432x288 with 1 Axes>"
            ],
            "image/png": "[encoded data removed]"
          },
          "metadata": {
            "needs_background": "light"
          }
        }
      ]
    },
    {
      "cell_type": "code",
      "source": [
        "(contours, heirarchy) = cv2.findContours(dilated.copy(), cv2.RETR_EXTERNAL, cv2.CHAIN_APPROX_NONE)\n",
        "sorted_contours_lines = sorted(contours, key = lambda ctr : cv2.boundingRect(ctr)[1])"
      ],
      "metadata": {
        "id": "JvI25M-tt3DL"
      },
      "execution_count": null,
      "outputs": []
    },
    {
      "cell_type": "code",
      "source": [
        "img2 = img.copy()\n",
        "\n",
        "for ctr in sorted_contours_lines:\n",
        "\n",
        "    x,y,w,h = cv2.boundingRect(ctr)\n",
        "    cv2.rectangle(img2, (x,y), (x+w, y+h), (40, 100, 250), 2)\n",
        "\n",
        "plt.imshow(img2)"
      ],
      "metadata": {
        "colab": {
          "base_uri": "https://localhost:8080/",
          "height": 99
        },
        "id": "4E3kuO5Ct-Aw",
        "outputId": "c5e37343-f43c-49f7-87b8-aae3c36b32ac"
      },
      "execution_count": null,
      "outputs": [
        {
          "output_type": "execute_result",
          "data": {
            "text/plain": [
              "<matplotlib.image.AxesImage at 0x7fbb9cff4bd0>"
            ]
          },
          "metadata": {},
          "execution_count": 139
        },
        {
          "output_type": "display_data",
          "data": {
            "text/plain": [
              "<Figure size 432x288 with 1 Axes>"
            ],
            "image/png": "[encoded data removed]"
          },
          "metadata": {
            "needs_background": "light"
          }
        }
      ]
    },
    {
      "cell_type": "code",
      "source": [
        "len(sorted_contours_lines)"
      ],
      "metadata": {
        "colab": {
          "base_uri": "https://localhost:8080/"
        },
        "id": "Vc31753gAhNy",
        "outputId": "73bb1c19-a941-438c-a56d-6424d693aa49"
      },
      "execution_count": null,
      "outputs": [
        {
          "output_type": "execute_result",
          "data": {
            "text/plain": [
              "1"
            ]
          },
          "metadata": {},
          "execution_count": 140
        }
      ]
    },
    {
      "cell_type": "code",
      "source": [
        "kernel = np.ones((3,15), np.uint8)\n",
        "dilated2 = cv2.dilate(thresh_img, kernel, iterations = 1)\n",
        "plt.imshow(dilated2, cmap='gray')"
      ],
      "metadata": {
        "colab": {
          "base_uri": "https://localhost:8080/",
          "height": 99
        },
        "id": "8bi_PfFIuAV9",
        "outputId": "f2eeeb89-cbdb-46dc-cbda-bbc75d098030"
      },
      "execution_count": null,
      "outputs": [
        {
          "output_type": "execute_result",
          "data": {
            "text/plain": [
              "<matplotlib.image.AxesImage at 0x7fbb8fac3310>"
            ]
          },
          "metadata": {},
          "execution_count": 141
        },
        {
          "output_type": "display_data",
          "data": {
            "text/plain": [
              "<Figure size 432x288 with 1 Axes>"
            ],
            "image/png": "[encoded data removed]"
          },
          "metadata": {
            "needs_background": "light"
          }
        }
      ]
    },
    {
      "cell_type": "code",
      "source": [
        "rect_kernel = cv2.getStructuringElement(cv2.MORPH_RECT, (15, 15))\n",
        "dilation = cv2.dilate(thresh_img, rect_kernel, iterations = 1)"
      ],
      "metadata": {
        "id": "FzrQgevE5LPT"
      },
      "execution_count": null,
      "outputs": []
    },
    {
      "cell_type": "code",
      "source": [
        "img3 = img.copy()\n",
        "words_list = []\n",
        "\n",
        "for line in sorted_contours_lines:\n",
        "\n",
        "    # roi of each line\n",
        "    x, y, w, h = cv2.boundingRect(line)\n",
        "    roi_line = dilated2[y:y+w, x:x+w]\n",
        "\n",
        "    # draw contours on each word\n",
        "    (cnt, heirarchy) = cv2.findContours(roi_line.copy(), cv2.RETR_EXTERNAL, cv2.CHAIN_APPROX_SIMPLE)\n",
        "    sorted_contour_words, bbox = sort_contours(cnt)\n",
        "\n",
        "    for word in sorted_contour_words:\n",
        "\n",
        "        if cv2.contourArea(word) < 400:\n",
        "            continue\n",
        "\n",
        "        x2, y2, w2, h2 = cv2.boundingRect(word)\n",
        "        if [x+x2, y+y2, x+x2+w2, y+y2+h2] not in words_list:\n",
        "          words_list.append([x+x2, y+y2, x+x2+w2, y+y2+h2])\n",
        "        cv2.rectangle(img3, (x+x2, y+y2), (x+x2+w2, y+y2+h2), (255,255,100),2)\n",
        "\n",
        "plt.imshow(img3)"
      ],
      "metadata": {
        "colab": {
          "base_uri": "https://localhost:8080/",
          "height": 99
        },
        "id": "Kn6LKAIzuC4M",
        "outputId": "dd8f1433-52d5-46d2-ee2b-8710be6baf86"
      },
      "execution_count": null,
      "outputs": [
        {
          "output_type": "execute_result",
          "data": {
            "text/plain": [
              "<matplotlib.image.AxesImage at 0x7fbb8e5d6e10>"
            ]
          },
          "metadata": {},
          "execution_count": 143
        },
        {
          "output_type": "display_data",
          "data": {
            "text/plain": [
              "<Figure size 432x288 with 1 Axes>"
            ],
            "image/png": "[encoded data removed]"
          },
          "metadata": {
            "needs_background": "light"
          }
        }
      ]
    },
    {
      "cell_type": "code",
      "source": [
        "len(words_list)"
      ],
      "metadata": {
        "colab": {
          "base_uri": "https://localhost:8080/"
        },
        "id": "rckJo3J389V8",
        "outputId": "56702df6-ac1c-45e6-dc7f-b7387abe9d60"
      },
      "execution_count": null,
      "outputs": [
        {
          "output_type": "execute_result",
          "data": {
            "text/plain": [
              "9"
            ]
          },
          "metadata": {},
          "execution_count": 144
        }
      ]
    },
    {
      "cell_type": "code",
      "source": [
        "for i in range(0,len(words_list)):\n",
        "    #print(type(i))\n",
        "    ninth_word = words_list[i]\n",
        "    roi_9 = img[ninth_word[1]:ninth_word[3], ninth_word[0]:ninth_word[2]]\n",
        "    plt.subplot(1, 19, i+1)\n",
        "    plt.imshow(roi_9)\n",
        "    plt.axis('off')"
      ],
      "metadata": {
        "colab": {
          "base_uri": "https://localhost:8080/",
          "height": 40
        },
        "id": "La6OYYntuHwy",
        "outputId": "e47c95a9-99bf-47dc-ff19-7f4d4544958d"
      },
      "execution_count": null,
      "outputs": [
        {
          "output_type": "display_data",
          "data": {
            "text/plain": [
              "<Figure size 432x288 with 9 Axes>"
            ],
            "image/png": "[encoded data removed]"
          },
          "metadata": {
            "needs_background": "light"
          }
        }
      ]
    },
    {
      "cell_type": "code",
      "source": [
        "t2 = cv2.imread('h.jpg')\n",
        "t2 = cv2.cvtColor(t2, cv2.COLOR_BGR2RGB)"
      ],
      "metadata": {
        "id": "2sLmRo-NJony"
      },
      "execution_count": null,
      "outputs": []
    },
    {
      "cell_type": "code",
      "source": [
        "pred = ocr_pipeline(t2)\n",
        "string_predicted = list_to_string(pred)\n",
        "string_predicted"
      ],
      "metadata": {
        "colab": {
          "base_uri": "https://localhost:8080/",
          "height": 422
        },
        "id": "BCJacmPBJ2J5",
        "outputId": "79374417-8a6c-4651-c090-e2d83cfd971e"
      },
      "execution_count": null,
      "outputs": [
        {
          "output_type": "stream",
          "name": "stdout",
          "text": [
            "1/1 [==============================] - 0s 20ms/step\n",
            "1/1 [==============================] - 0s 18ms/step\n",
            "1/1 [==============================] - 0s 17ms/step\n",
            "1/1 [==============================] - 0s 20ms/step\n",
            "1/1 [==============================] - 0s 20ms/step\n",
            "1/1 [==============================] - 0s 17ms/step\n",
            "1/1 [==============================] - 0s 18ms/step\n",
            "1/1 [==============================] - 0s 17ms/step\n"
          ]
        },
        {
          "output_type": "execute_result",
          "data": {
            "text/plain": [
              "'hqwemwfr'"
            ],
            "application/vnd.google.colaboratory.intrinsic+json": {
              "type": "string"
            }
          },
          "metadata": {},
          "execution_count": 134
        },
        {
          "output_type": "display_data",
          "data": {
            "text/plain": [
              "<Figure size 432x288 with 1 Axes>"
            ],
            "image/png": "[encoded data removed]"
          },
          "metadata": {
            "needs_background": "light"
          }
        }
      ]
    },
    {
      "cell_type": "code",
      "source": [
        "ninth_word = words_list[7]\n",
        "roi = img[ninth_word[1]:ninth_word[3], ninth_word[0]:ninth_word[2]]\n",
        "plt.imshow(roi)\n",
        "prediction = ocr_pipeline(roi)"
      ],
      "metadata": {
        "id": "BYC9y8l_BJvv",
        "colab": {
          "base_uri": "https://localhost:8080/",
          "height": 317
        },
        "outputId": "28b17a69-f055-4fab-c24e-cced724dccc2"
      },
      "execution_count": null,
      "outputs": [
        {
          "output_type": "stream",
          "name": "stdout",
          "text": [
            "1/1 [==============================] - 0s 34ms/step\n",
            "1/1 [==============================] - 0s 19ms/step\n",
            "1/1 [==============================] - 0s 18ms/step\n"
          ]
        },
        {
          "output_type": "display_data",
          "data": {
            "text/plain": [
              "<Figure size 432x288 with 1 Axes>"
            ],
            "image/png": "[encoded data removed]"
          },
          "metadata": {
            "needs_background": "light"
          }
        }
      ]
    },
    {
      "cell_type": "code",
      "source": [
        "prediction"
      ],
      "metadata": {
        "colab": {
          "base_uri": "https://localhost:8080/"
        },
        "id": "-_nBVv6y9XF6",
        "outputId": "de268574-febd-429c-90aa-6704e9d7ab21"
      },
      "execution_count": null,
      "outputs": [
        {
          "output_type": "execute_result",
          "data": {
            "text/plain": [
              "[21, 14]"
            ]
          },
          "metadata": {},
          "execution_count": 48
        }
      ]
    },
    {
      "cell_type": "code",
      "source": [
        "string_predicted = list_to_string(prediction)\n",
        "string_predicted"
      ],
      "metadata": {
        "id": "rObyWRPqB24T",
        "colab": {
          "base_uri": "https://localhost:8080/",
          "height": 36
        },
        "outputId": "a232d453-c2f6-4f3a-8b5b-85926b10b67a"
      },
      "execution_count": null,
      "outputs": [
        {
          "output_type": "execute_result",
          "data": {
            "text/plain": [
              "'mmy'"
            ],
            "application/vnd.google.colaboratory.intrinsic+json": {
              "type": "string"
            }
          },
          "metadata": {},
          "execution_count": 160
        }
      ]
    },
    {
      "cell_type": "code",
      "source": [
        "temp2 = [(jaccard_distance(set(ngrams(string_predicted, 2)),\n",
        "                              set(ngrams(w, 2))),w)\n",
        "            for w in correct_words if w[0]==string_predicted[0]]\n",
        "#print(temp)\n",
        "print(sorted(temp2, key = lambda val:val[0])[0][1])"
      ],
      "metadata": {
        "colab": {
          "base_uri": "https://localhost:8080/"
        },
        "id": "2m1K29dD7vRa",
        "outputId": "54aa4c71-215f-43fa-ad8a-b9eadfda646e"
      },
      "execution_count": null,
      "outputs": [
        {
          "output_type": "stream",
          "name": "stdout",
          "text": [
            "gaddi\n"
          ]
        }
      ]
    },
    {
      "cell_type": "code",
      "source": [
        "for i in range(1,5):\n",
        "  print(jaccard([string_predicted], i))"
      ],
      "metadata": {
        "colab": {
          "base_uri": "https://localhost:8080/"
        },
        "id": "dcTKnd9DNB4I",
        "outputId": "9bb81765-f176-4e46-de43-b5882984d33a"
      },
      "execution_count": null,
      "outputs": [
        {
          "output_type": "stream",
          "name": "stdout",
          "text": [
            "['gad']\n",
            "['gaddi']\n",
            "['g']\n",
            "['g']\n"
          ]
        }
      ]
    },
    {
      "cell_type": "code",
      "source": [
        "word_model = tf.keras.models.load_model('model_1.h5')"
      ],
      "metadata": {
        "id": "XxjRGhp4VfTo",
        "colab": {
          "base_uri": "https://localhost:8080/",
          "height": 311
        },
        "outputId": "23ba8267-6f88-4de8-9932-92ad81e5b516"
      },
      "execution_count": null,
      "outputs": [
        {
          "output_type": "error",
          "ename": "OSError",
          "evalue": "ignored",
          "traceback": [
            "\u001b[0;31m---------------------------------------------------------------------------\u001b[0m",
            "\u001b[0;31mOSError\u001b[0m                                   Traceback (most recent call last)",
            "\u001b[0;32m<ipython-input-13-db22cd3a8b68>\u001b[0m in \u001b[0;36m<module>\u001b[0;34m\u001b[0m\n\u001b[0;32m----> 1\u001b[0;31m \u001b[0mword_model\u001b[0m \u001b[0;34m=\u001b[0m \u001b[0mtf\u001b[0m\u001b[0;34m.\u001b[0m\u001b[0mkeras\u001b[0m\u001b[0;34m.\u001b[0m\u001b[0mmodels\u001b[0m\u001b[0;34m.\u001b[0m\u001b[0mload_model\u001b[0m\u001b[0;34m(\u001b[0m\u001b[0;34m'model_1.h5'\u001b[0m\u001b[0;34m)\u001b[0m\u001b[0;34m\u001b[0m\u001b[0;34m\u001b[0m\u001b[0m\n\u001b[0m",
            "\u001b[0;32m/usr/local/lib/python3.7/dist-packages/keras/utils/traceback_utils.py\u001b[0m in \u001b[0;36merror_handler\u001b[0;34m(*args, **kwargs)\u001b[0m\n\u001b[1;32m     65\u001b[0m     \u001b[0;32mexcept\u001b[0m \u001b[0mException\u001b[0m \u001b[0;32mas\u001b[0m \u001b[0me\u001b[0m\u001b[0;34m:\u001b[0m  \u001b[0;31m# pylint: disable=broad-except\u001b[0m\u001b[0;34m\u001b[0m\u001b[0;34m\u001b[0m\u001b[0m\n\u001b[1;32m     66\u001b[0m       \u001b[0mfiltered_tb\u001b[0m \u001b[0;34m=\u001b[0m \u001b[0m_process_traceback_frames\u001b[0m\u001b[0;34m(\u001b[0m\u001b[0me\u001b[0m\u001b[0;34m.\u001b[0m\u001b[0m__traceback__\u001b[0m\u001b[0;34m)\u001b[0m\u001b[0;34m\u001b[0m\u001b[0;34m\u001b[0m\u001b[0m\n\u001b[0;32m---> 67\u001b[0;31m       \u001b[0;32mraise\u001b[0m \u001b[0me\u001b[0m\u001b[0;34m.\u001b[0m\u001b[0mwith_traceback\u001b[0m\u001b[0;34m(\u001b[0m\u001b[0mfiltered_tb\u001b[0m\u001b[0;34m)\u001b[0m \u001b[0;32mfrom\u001b[0m \u001b[0;32mNone\u001b[0m\u001b[0;34m\u001b[0m\u001b[0;34m\u001b[0m\u001b[0m\n\u001b[0m\u001b[1;32m     68\u001b[0m     \u001b[0;32mfinally\u001b[0m\u001b[0;34m:\u001b[0m\u001b[0;34m\u001b[0m\u001b[0;34m\u001b[0m\u001b[0m\n\u001b[1;32m     69\u001b[0m       \u001b[0;32mdel\u001b[0m \u001b[0mfiltered_tb\u001b[0m\u001b[0;34m\u001b[0m\u001b[0;34m\u001b[0m\u001b[0m\n",
            "\u001b[0;32m/usr/local/lib/python3.7/dist-packages/keras/saving/save.py\u001b[0m in \u001b[0;36mload_model\u001b[0;34m(filepath, custom_objects, compile, options)\u001b[0m\n\u001b[1;32m    204\u001b[0m         \u001b[0;32mif\u001b[0m \u001b[0misinstance\u001b[0m\u001b[0;34m(\u001b[0m\u001b[0mfilepath_str\u001b[0m\u001b[0;34m,\u001b[0m \u001b[0mstr\u001b[0m\u001b[0;34m)\u001b[0m\u001b[0;34m:\u001b[0m\u001b[0;34m\u001b[0m\u001b[0;34m\u001b[0m\u001b[0m\n\u001b[1;32m    205\u001b[0m           \u001b[0;32mif\u001b[0m \u001b[0;32mnot\u001b[0m \u001b[0mtf\u001b[0m\u001b[0;34m.\u001b[0m\u001b[0mio\u001b[0m\u001b[0;34m.\u001b[0m\u001b[0mgfile\u001b[0m\u001b[0;34m.\u001b[0m\u001b[0mexists\u001b[0m\u001b[0;34m(\u001b[0m\u001b[0mfilepath_str\u001b[0m\u001b[0;34m)\u001b[0m\u001b[0;34m:\u001b[0m\u001b[0;34m\u001b[0m\u001b[0;34m\u001b[0m\u001b[0m\n\u001b[0;32m--> 206\u001b[0;31m             \u001b[0;32mraise\u001b[0m \u001b[0mIOError\u001b[0m\u001b[0;34m(\u001b[0m\u001b[0;34mf'No file or directory found at {filepath_str}'\u001b[0m\u001b[0;34m)\u001b[0m\u001b[0;34m\u001b[0m\u001b[0;34m\u001b[0m\u001b[0m\n\u001b[0m\u001b[1;32m    207\u001b[0m \u001b[0;34m\u001b[0m\u001b[0m\n\u001b[1;32m    208\u001b[0m           \u001b[0;32mif\u001b[0m \u001b[0mtf\u001b[0m\u001b[0;34m.\u001b[0m\u001b[0mio\u001b[0m\u001b[0;34m.\u001b[0m\u001b[0mgfile\u001b[0m\u001b[0;34m.\u001b[0m\u001b[0misdir\u001b[0m\u001b[0;34m(\u001b[0m\u001b[0mfilepath_str\u001b[0m\u001b[0;34m)\u001b[0m\u001b[0;34m:\u001b[0m\u001b[0;34m\u001b[0m\u001b[0;34m\u001b[0m\u001b[0m\n",
            "\u001b[0;31mOSError\u001b[0m: No file or directory found at model_1.h5"
          ]
        }
      ]
    },
    {
      "cell_type": "code",
      "source": [
        "import cv2"
      ],
      "metadata": {
        "id": "-GEyHJfwMOOn"
      },
      "execution_count": null,
      "outputs": []
    },
    {
      "cell_type": "code",
      "source": [
        "img = cv2.imread('t2.jpg')\n",
        "#img = cv2.cvtColor(img, cv2.COLOR_BGR2RGB)"
      ],
      "metadata": {
        "id": "5t2BhQz2MIho"
      },
      "execution_count": null,
      "outputs": []
    },
    {
      "cell_type": "code",
      "source": [
        "text = pytesseract.image_to_string(img)"
      ],
      "metadata": {
        "id": "MCRUte2NNNWB"
      },
      "execution_count": null,
      "outputs": []
    },
    {
      "cell_type": "code",
      "source": [
        "print(text)"
      ],
      "metadata": {
        "colab": {
          "base_uri": "https://localhost:8080/"
        },
        "id": "o7455sDRNOdp",
        "outputId": "01962b6d-ff5e-41c9-8810-2f10dda0c681"
      },
      "execution_count": null,
      "outputs": [
        {
          "output_type": "stream",
          "name": "stdout",
          "text": [
            "‘The studio was filled with the rich odor\n",
            "of roses, and when the light summer\n",
            "wind stirred amidst the trees of the\n",
            "garden there came through the open\n",
            "door the heavy scent of the lilac, or the\n",
            "more delicate perfume of the pink-\n",
            "flowering thorn.\n",
            "\n",
            "The studio was filled with the rich\n",
            "odor of roses, and when the light\n",
            "summer wind stirred amidst the trees\n",
            "of the garden there came through the\n",
            "‘open door the heavy scent of the lilac,\n",
            "orthe more delicate perfume of the\n",
            "pinkeflowering thorn.\n",
            "\f\n"
          ]
        }
      ]
    },
    {
      "cell_type": "code",
      "source": [
        "from keras.preprocessing.text import Tokenizer\n",
        "from tensorflow.keras.preprocessing.sequence import pad_sequences\n",
        "from sklearn.preprocessing import OneHotEncoder, LabelEncoder\n",
        "import pandas as pd\n",
        "import numpy as np\n",
        "import heapq\n",
        "import matplotlib.pyplot as plt"
      ],
      "metadata": {
        "id": "uVvQHMa-avli"
      },
      "execution_count": null,
      "outputs": []
    },
    {
      "cell_type": "code",
      "source": [
        "import nltk\n",
        "nltk.download(\"gutenberg\")\n",
        "nltk.download('punkt')"
      ],
      "metadata": {
        "colab": {
          "base_uri": "https://localhost:8080/"
        },
        "id": "0aLyRu0gax03",
        "outputId": "1076d1a3-7be7-45c2-d8f9-dabaf6c63174"
      },
      "execution_count": null,
      "outputs": [
        {
          "output_type": "stream",
          "name": "stderr",
          "text": [
            "[nltk_data] Downloading package gutenberg to /root/nltk_data...\n",
            "[nltk_data]   Unzipping corpora/gutenberg.zip.\n",
            "[nltk_data] Downloading package punkt to /root/nltk_data...\n",
            "[nltk_data]   Unzipping tokenizers/punkt.zip.\n"
          ]
        },
        {
          "output_type": "execute_result",
          "data": {
            "text/plain": [
              "True"
            ]
          },
          "metadata": {},
          "execution_count": 5
        }
      ]
    },
    {
      "cell_type": "code",
      "source": [
        "corpus = nltk.corpus.gutenberg.sents('melville-moby_dick.txt')[:2000]"
      ],
      "metadata": {
        "id": "AQPuvsxoayci"
      },
      "execution_count": null,
      "outputs": []
    },
    {
      "cell_type": "code",
      "source": [
        "tokenizer = Tokenizer()\n",
        "tokenizer.fit_on_texts(corpus)\n",
        "word_index = tokenizer.word_index\n",
        "total_unique_words = len(tokenizer.word_index) + 1"
      ],
      "metadata": {
        "id": "DGvk0deRaz_Y"
      },
      "execution_count": null,
      "outputs": []
    },
    {
      "cell_type": "code",
      "source": [
        "max_len=171"
      ],
      "metadata": {
        "id": "wwHGzg_7a1fZ"
      },
      "execution_count": null,
      "outputs": []
    },
    {
      "cell_type": "code",
      "source": [
        "from keras.preprocessing.text import Tokenizer\n",
        "from tensorflow.keras.preprocessing.sequence import pad_sequences\n",
        "def word_prediction(seed_text, next_words):\n",
        "  for _ in range(next_words):\n",
        "    token_list = tokenizer.texts_to_sequences([seed_text])[0]\n",
        "    token_list = pad_sequences([token_list], maxlen=max_len-1, padding='pre')\n",
        "  predicted = np.argmax(word_model.predict(token_list, verbose=1), axis=-1)\n",
        "  ouput_word = \"\"\n",
        "  for word, index in tokenizer.word_index.items():\n",
        "    if index == predicted:\n",
        "      output_word = word\n",
        "      break\n",
        "  seed_text += ' '+output_word\n",
        "  print(seed_text)"
      ],
      "metadata": {
        "id": "iazBaMYraUJK"
      },
      "execution_count": null,
      "outputs": []
    },
    {
      "cell_type": "code",
      "source": [
        "#\"For my part I abominate all honourable respectable toils trials and tribulations of every kind whatsoever.\"\n",
        "word_prediction('For my part I abominate all honourable respectable toils trials and tribulations of every kind',5)"
      ],
      "metadata": {
        "colab": {
          "base_uri": "https://localhost:8080/",
          "height": 304
        },
        "id": "XeZFbvPFZQjQ",
        "outputId": "893f265f-0fa6-4a05-f76a-fd1fd9464a70"
      },
      "execution_count": null,
      "outputs": [
        {
          "output_type": "error",
          "ename": "NameError",
          "evalue": "ignored",
          "traceback": [
            "\u001b[0;31m---------------------------------------------------------------------------\u001b[0m",
            "\u001b[0;31mNameError\u001b[0m                                 Traceback (most recent call last)",
            "\u001b[0;32m<ipython-input-13-3ce5720f858f>\u001b[0m in \u001b[0;36m<module>\u001b[0;34m\u001b[0m\n\u001b[1;32m      1\u001b[0m \u001b[0;31m#\"For my part I abominate all honourable respectable toils trials and tribulations of every kind whatsoever.\"\u001b[0m\u001b[0;34m\u001b[0m\u001b[0;34m\u001b[0m\u001b[0;34m\u001b[0m\u001b[0m\n\u001b[0;32m----> 2\u001b[0;31m \u001b[0mword_prediction\u001b[0m\u001b[0;34m(\u001b[0m\u001b[0;34m'For my part I abominate all honourable respectable toils trials and tribulations of every kind'\u001b[0m\u001b[0;34m,\u001b[0m\u001b[0;36m5\u001b[0m\u001b[0;34m)\u001b[0m\u001b[0;34m\u001b[0m\u001b[0;34m\u001b[0m\u001b[0m\n\u001b[0m",
            "\u001b[0;32m<ipython-input-11-a74fdfa1f93e>\u001b[0m in \u001b[0;36mword_prediction\u001b[0;34m(seed_text, next_words)\u001b[0m\n\u001b[1;32m      5\u001b[0m     \u001b[0mtoken_list\u001b[0m \u001b[0;34m=\u001b[0m \u001b[0mtokenizer\u001b[0m\u001b[0;34m.\u001b[0m\u001b[0mtexts_to_sequences\u001b[0m\u001b[0;34m(\u001b[0m\u001b[0;34m[\u001b[0m\u001b[0mseed_text\u001b[0m\u001b[0;34m]\u001b[0m\u001b[0;34m)\u001b[0m\u001b[0;34m[\u001b[0m\u001b[0;36m0\u001b[0m\u001b[0;34m]\u001b[0m\u001b[0;34m\u001b[0m\u001b[0;34m\u001b[0m\u001b[0m\n\u001b[1;32m      6\u001b[0m     \u001b[0mtoken_list\u001b[0m \u001b[0;34m=\u001b[0m \u001b[0mpad_sequences\u001b[0m\u001b[0;34m(\u001b[0m\u001b[0;34m[\u001b[0m\u001b[0mtoken_list\u001b[0m\u001b[0;34m]\u001b[0m\u001b[0;34m,\u001b[0m \u001b[0mmaxlen\u001b[0m\u001b[0;34m=\u001b[0m\u001b[0mmax_len\u001b[0m\u001b[0;34m-\u001b[0m\u001b[0;36m1\u001b[0m\u001b[0;34m,\u001b[0m \u001b[0mpadding\u001b[0m\u001b[0;34m=\u001b[0m\u001b[0;34m'pre'\u001b[0m\u001b[0;34m)\u001b[0m\u001b[0;34m\u001b[0m\u001b[0;34m\u001b[0m\u001b[0m\n\u001b[0;32m----> 7\u001b[0;31m   \u001b[0mpredicted\u001b[0m \u001b[0;34m=\u001b[0m \u001b[0mnp\u001b[0m\u001b[0;34m.\u001b[0m\u001b[0margmax\u001b[0m\u001b[0;34m(\u001b[0m\u001b[0mword_model\u001b[0m\u001b[0;34m.\u001b[0m\u001b[0mpredict\u001b[0m\u001b[0;34m(\u001b[0m\u001b[0mtoken_list\u001b[0m\u001b[0;34m,\u001b[0m \u001b[0mverbose\u001b[0m\u001b[0;34m=\u001b[0m\u001b[0;36m1\u001b[0m\u001b[0;34m)\u001b[0m\u001b[0;34m,\u001b[0m \u001b[0maxis\u001b[0m\u001b[0;34m=\u001b[0m\u001b[0;34m-\u001b[0m\u001b[0;36m1\u001b[0m\u001b[0;34m)\u001b[0m\u001b[0;34m\u001b[0m\u001b[0;34m\u001b[0m\u001b[0m\n\u001b[0m\u001b[1;32m      8\u001b[0m   \u001b[0mouput_word\u001b[0m \u001b[0;34m=\u001b[0m \u001b[0;34m\"\"\u001b[0m\u001b[0;34m\u001b[0m\u001b[0;34m\u001b[0m\u001b[0m\n\u001b[1;32m      9\u001b[0m   \u001b[0;32mfor\u001b[0m \u001b[0mword\u001b[0m\u001b[0;34m,\u001b[0m \u001b[0mindex\u001b[0m \u001b[0;32min\u001b[0m \u001b[0mtokenizer\u001b[0m\u001b[0;34m.\u001b[0m\u001b[0mword_index\u001b[0m\u001b[0;34m.\u001b[0m\u001b[0mitems\u001b[0m\u001b[0;34m(\u001b[0m\u001b[0;34m)\u001b[0m\u001b[0;34m:\u001b[0m\u001b[0;34m\u001b[0m\u001b[0;34m\u001b[0m\u001b[0m\n",
            "\u001b[0;31mNameError\u001b[0m: name 'word_model' is not defined"
          ]
        }
      ]
    },
    {
      "cell_type": "code",
      "source": [
        "import pandas as pd\n",
        "from bs4 import BeautifulSoup\n",
        "import re\n",
        "import nltk\n",
        "nltk.download('stopwords')\n",
        "nltk.download('wordnet')\n",
        "nltk.download('omw-1.4')\n",
        "from nltk.corpus import stopwords\n",
        "from nltk.stem.wordnet import WordNetLemmatizer"
      ],
      "metadata": {
        "colab": {
          "base_uri": "https://localhost:8080/"
        },
        "id": "an5dagqfppD1",
        "outputId": "54819c91-2bd8-435d-8d7c-76568635cf22"
      },
      "execution_count": null,
      "outputs": [
        {
          "output_type": "stream",
          "name": "stderr",
          "text": [
            "[nltk_data] Downloading package stopwords to /root/nltk_data...\n",
            "[nltk_data]   Unzipping corpora/stopwords.zip.\n",
            "[nltk_data] Downloading package wordnet to /root/nltk_data...\n",
            "[nltk_data] Downloading package omw-1.4 to /root/nltk_data...\n"
          ]
        }
      ]
    },
    {
      "cell_type": "code",
      "source": [
        "def html_tag_remove(review):\n",
        "  soup = BeautifulSoup(review, 'lxml')\n",
        "  return soup.get_text()"
      ],
      "metadata": {
        "id": "hw3hsSm4pmyh"
      },
      "execution_count": null,
      "outputs": []
    },
    {
      "cell_type": "code",
      "source": [
        "def removeContractions(review):\n",
        "    phrase = re.sub(r\"won't\", \"will not\", review)\n",
        "    phrase = re.sub(r\"can\\'t\", \"can not\", review)\n",
        "    phrase = re.sub(r\"n\\'t\", \" not\", review)\n",
        "    phrase = re.sub(r\"\\'re\", \" are\", review)\n",
        "    phrase = re.sub(r\"\\'s\", \" is\", review)\n",
        "    phrase = re.sub(r\"\\'d\", \" would\", review)\n",
        "    phrase = re.sub(r\"\\'ll\", \" will\", review)\n",
        "    phrase = re.sub(r\"\\'t\", \" not\", review)\n",
        "    phrase = re.sub(r\"\\'ve\", \" have\", review)\n",
        "    phrase = re.sub(r\"\\'m\", \" am\", review)\n",
        "    return phrase"
      ],
      "metadata": {
        "id": "8nfP9hAgpijV"
      },
      "execution_count": null,
      "outputs": []
    },
    {
      "cell_type": "code",
      "source": [
        "def removeAlphaNumericWords(review):\n",
        "     return re.sub(\"\\S*\\d\\S*\", \"\", review).strip()\n",
        "def removeSpecialChars(review):\n",
        "     return re.sub('[^a-zA-Z]', ' ', review)\n",
        "def scorePartition(x):\n",
        "    if x < 3:\n",
        "        return 0\n",
        "    return 1"
      ],
      "metadata": {
        "id": "MYc2XhfXpeJD"
      },
      "execution_count": null,
      "outputs": []
    },
    {
      "cell_type": "code",
      "source": [
        "def TextPreprocessing(review):\n",
        "    review = html_tag_remove(review)\n",
        "    review = removeContractions(review)\n",
        "    review = removeAlphaNumericWords(review)\n",
        "    review = removeSpecialChars(review)\n",
        "    review = review.lower()\n",
        "    review = review.split()\n",
        "    lmtzr = WordNetLemmatizer()\n",
        "    review = [lmtzr.lemmatize(word, 'v') for word in review if not word in set(stopwords.words('english'))]\n",
        "    review = \" \".join(review)\n",
        "    return review"
      ],
      "metadata": {
        "id": "hvSmjYrJpdxx"
      },
      "execution_count": null,
      "outputs": []
    },
    {
      "cell_type": "code",
      "source": [
        "import joblib\n",
        "sentiment_model = joblib.load('sentiment_model.joblib')"
      ],
      "metadata": {
        "id": "to4JjjkneUHA"
      },
      "execution_count": null,
      "outputs": []
    },
    {
      "cell_type": "code",
      "source": [
        "dataset = pd.read_csv('/content/drive/MyDrive/Colab Notebooks/Reviews.csv', nrows=80000)\n",
        "dataset = dataset.drop_duplicates(subset={\"UserId\",\"ProfileName\",\"Time\",\"Text\"}, keep='first', inplace=False)"
      ],
      "metadata": {
        "id": "iXSEgRg78iT-"
      },
      "execution_count": null,
      "outputs": []
    },
    {
      "cell_type": "code",
      "source": [
        "import tqdm\n",
        "corpus1 = []\n",
        "for index, row in tqdm.tqdm(dataset.iterrows()):\n",
        "    review = TextPreprocessing(row['Text'])\n",
        "    corpus1.append(review)"
      ],
      "metadata": {
        "id": "bOedftLcqIlH",
        "colab": {
          "base_uri": "https://localhost:8080/"
        },
        "outputId": "aa9492f1-ad6b-47b8-96f6-6611fb391f0b"
      },
      "execution_count": null,
      "outputs": [
        {
          "output_type": "stream",
          "name": "stderr",
          "text": [
            "71493it [11:44, 101.42it/s]\n"
          ]
        }
      ]
    },
    {
      "cell_type": "code",
      "source": [
        "import pickle\n",
        "\n",
        "with open('corpus1.pkl','rb') as f:\n",
        "  corpus1 = pickle.load(f)"
      ],
      "metadata": {
        "id": "vEqBYwAdMyuA"
      },
      "execution_count": null,
      "outputs": []
    },
    {
      "cell_type": "code",
      "source": [
        "from sklearn.feature_extraction.text import CountVectorizer\n",
        "cv = CountVectorizer(ngram_range=(1,3), max_features = 5000)\n",
        "X = cv.fit_transform(corpus1).toarray()"
      ],
      "metadata": {
        "id": "bOnlIw5GqG5P"
      },
      "execution_count": null,
      "outputs": []
    },
    {
      "cell_type": "code",
      "source": [
        "def predictNewReview(newReview):\n",
        "  if newReview =='':\n",
        "    print('Invalid Review')\n",
        "  else:\n",
        "    newReview = TextPreprocessing(newReview)\n",
        "    new_review = cv.transform([newReview]).toarray()\n",
        "    prediction =  sentiment_model.predict(new_review)\n",
        "    print(prediction)\n",
        "    if prediction[0] == 1:\n",
        "      print( \"Positive Review\" )\n",
        "    else:\n",
        "      print( \"Negative Review\")"
      ],
      "metadata": {
        "id": "UrfMUaZTpLUl"
      },
      "execution_count": null,
      "outputs": []
    },
    {
      "cell_type": "code",
      "source": [
        "import pickle\n",
        "with open('corpus1.pkl', 'wb') as f:\n",
        "  pickle.dump(corpus1, f)"
      ],
      "metadata": {
        "id": "Bt6ZgjYEIXpW"
      },
      "execution_count": null,
      "outputs": []
    },
    {
      "cell_type": "code",
      "source": [
        "predictNewReview('It was a very good cake. The was worth every penny. However the packaging was not good')"
      ],
      "metadata": {
        "colab": {
          "base_uri": "https://localhost:8080/"
        },
        "id": "6hs7rtLN9KAk",
        "outputId": "e6d86e9f-0e9d-498a-f004-4b6e5be69d53"
      },
      "execution_count": null,
      "outputs": [
        {
          "output_type": "stream",
          "name": "stdout",
          "text": [
            "[1]\n",
            "Positive Review\n"
          ]
        }
      ]
    }
  ]
}